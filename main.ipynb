{
 "cells": [
  {
   "cell_type": "markdown",
   "id": "358cf25b",
   "metadata": {},
   "source": [
    "# Setup\n",
    "Before we proceed, we need to... \n",
    "- import any necessary libraries\n",
    "- create a function to help display API responses\n",
    "- and fill out our config object"
   ]
  },
  {
   "cell_type": "code",
   "execution_count": null,
   "id": "99713fd7",
   "metadata": {},
   "outputs": [],
   "source": [
    "import requests\n",
    "import json\n",
    "import random\n",
    "\n",
    "def view(r: dict) -> None:\n",
    "    if r.status_code == 400:\n",
    "        raise RuntimeError(f\"something went wrong - {r.status_code}: {r.text}\")\n",
    "    elif r.status_code == 403:\n",
    "        raise RuntimeError(f\"something went wrong - {r.status_code}: {r.text}\")\n",
    "    print(json.dumps(r.json(), indent=4))"
   ]
  },
  {
   "cell_type": "markdown",
   "id": "870673ac",
   "metadata": {},
   "source": [
    "### Fill in the `config` object below with information provided to you by LightningDocs\n",
    "\n",
    "If you are connecting to the API on behalf of multiple distinct users (e.g., you are an LOS connecting to Lightning Docs for a number of your users) you will need a separate `catalog_name` for each client (organization, not one for each individual user within an organization). Please notify Lightning Docs any time you wish to add API access for a new user/catalog so that we can provide you with the `catalog_name` and associate that catalog with your API key in our system.\n",
    "\n",
    "- `version` should match the name of the data model file to which your data files are expected to conform (e.g., `1.1.3`)\n",
    "- `keyID` is the Knackly API key provided to you.\n",
    "- `tenancy` should be the name of the Knackly workspace. In this case, `ld` (As in '**L**ightning **D**ocs').\n",
    "- `secret` is the very long Knackly secret key provided to you.\n",
    "- `catalog_name` is the name of the catalog in which records and finished documents are stored. While testing and demonstrating this API you will use a catalog shared by other testers. As such, DO NOT SEND CONFIDENTIAL INFORMATION WHILE TESTING THE API. In actual production use, each client will access a catalog unique to them.\n",
    "- `app_name` is the name of the application that runs the data you send and produces the appropriate documents.\n",
    "- `refresh_token` is the token used to validate the external user you are presenting yourself as (more on that below).\n",
    "\n",
    "Afterward, make sure to run the cell below. This ensures that all the variables are properly stored in memory."
   ]
  },
  {
   "cell_type": "code",
   "execution_count": null,
   "id": "711c60b7",
   "metadata": {},
   "outputs": [],
   "source": [
    "from util import LightningDocs, Knackly, Config\n",
    "\n",
    "config = Config(\n",
    "    LightningDocs(version=\"VERSION_HERE\"),\n",
    "    Knackly(\n",
    "        tenancy=\"TENANCY_HERE\",\n",
    "        keyID=\"YOUR_KEYID_HERE\",\n",
    "        secret=\"YOUR_SECRET_HERE\",\n",
    "        catalog_name=\"CATALOG_NAME_HERE\",\n",
    "        app_name=\"APP_NAME_HERE\",\n",
    "        refresh_token=\"YOUR_REFRESH_TOKEN_HERE\"\n",
    "    ),\n",
    ")\n",
    "\n",
    "base_url = f\"https://api.knackly.io/{config.knackly.tenancy}/api/v1\""
   ]
  },
  {
   "cell_type": "markdown",
   "id": "7292cf36",
   "metadata": {},
   "source": [
    "# Interacting with the Lightning Docs data transformation API\n",
    "- _Schema documentation can be found [here](https://github.com/LightningDocs/LightningDocs-Knackly-API/tree/master/json/datamodels)_\n",
    "- _Postman documentation for the Lightning Docs API can be found [here](https://documenter.getpostman.com/view/29599365/2s9YRGwoCT)_\n",
    "\n",
    "The JSON Schema (Data Model) gives the names and contours of the data Lightning Docs can receive and gives plain language descriptions of the circumstances under which the various data are used. As yet it does NOT provide for automatic validation of the completeness of the data you send (that is a planned feature). Completeness is not necessary for the Lightning Docs data transformation API to translate the data provided to it; it will translate any information that can be used to fill the interview and ignore any irrelevant information. "
   ]
  },
  {
   "cell_type": "markdown",
   "id": "0e725d77",
   "metadata": {},
   "source": [
    "### Sending JSON and getting back a valid Knackly JSON object<a id='ld_api'></a>"
   ]
  },
  {
   "cell_type": "markdown",
   "id": "7ff6d187",
   "metadata": {},
   "source": [
    "The following cell sends the contents of `complete.json` which follows the provided schema with information for a completely filled out loan."
   ]
  },
  {
   "cell_type": "code",
   "execution_count": null,
   "id": "a0ab5457",
   "metadata": {},
   "outputs": [],
   "source": [
    "url = \"https://api.lightningdocs.com/api/JsonConversion/Convert\"\n",
    "\n",
    "payload = {\n",
    "    'version': config.lightningdocs.version\n",
    "}\n",
    "\n",
    "with open(\"json/examples/complete.json\", \"r\") as infile:\n",
    "    data = json.load(infile)\n",
    "    \n",
    "response = requests.post(url, params=payload, json=data)\n",
    "\n",
    "view(response)"
   ]
  },
  {
   "cell_type": "markdown",
   "id": "b9730d75",
   "metadata": {},
   "source": [
    "The following cell uses data from `incomplete.json`. This is valid JSON that follows the schema, but is largely incomplete."
   ]
  },
  {
   "cell_type": "code",
   "execution_count": null,
   "id": "0951b599",
   "metadata": {},
   "outputs": [],
   "source": [
    "with open(\"json/examples/incomplete.json\", \"r\") as infile:\n",
    "    data = json.load(infile)\n",
    "    \n",
    "response = requests.post(url, params=payload, json=data)\n",
    "\n",
    "view(response)"
   ]
  },
  {
   "cell_type": "markdown",
   "id": "f1949b5f",
   "metadata": {},
   "source": [
    "# Interacting with the Knackly API\n",
    "The full Knackly API documentation is available on Postman [here](https://documenter.getpostman.com/view/6868588/SzS7QReU#intro). Note that this is maintained by Knackly themselves, and not associated directly with Lightning Docs.\n",
    "\n",
    "Nearly all requests to the Knackly API must contain an access token provided in the request header. In order to obtain this access token, you will need the `keyID` and `secret` provided to you by Lightning Docs."
   ]
  },
  {
   "cell_type": "markdown",
   "id": "12db7745",
   "metadata": {},
   "source": [
    "## Access Token<a id='access_token'></a>"
   ]
  },
  {
   "cell_type": "code",
   "execution_count": null,
   "id": "d0eae2fe",
   "metadata": {},
   "outputs": [],
   "source": [
    "url = f\"https://api.knackly.io/{config.knackly.tenancy}/api/v1/auth/login\"\n",
    "\n",
    "payload = {\"KeyID\": config.knackly.keyID, \"Secret\": config.knackly.secret}\n",
    "\n",
    "response = requests.post(url, json=payload)\n",
    "access_token = response.json()[\"token\"]\n",
    "\n",
    "view(response)"
   ]
  },
  {
   "cell_type": "markdown",
   "id": "52885005",
   "metadata": {},
   "source": [
    "The access token needs to be included in the header of each subsequent response, so you will create the `headers` object that will be included in nearly all future requests."
   ]
  },
  {
   "cell_type": "code",
   "execution_count": null,
   "id": "e44e9535",
   "metadata": {},
   "outputs": [],
   "source": [
    "headers = {\"Authorization\": f\"Bearer {access_token}\"}"
   ]
  },
  {
   "cell_type": "markdown",
   "id": "68f37a3a",
   "metadata": {},
   "source": [
    "## External Users\n",
    "Because the Knackly application ties all actions that create and modify a record to a specific user (even when those actions are taken through the API), you must identify yourself as an external user using the provided `refresh token`. This is analagous to a recovery key for the external user: the `refresh token` itself isn't the \"password\" to the external token, but possession of it allows generation of the `user token`, which _is_ used to uniquely identify an external user."
   ]
  },
  {
   "cell_type": "markdown",
   "id": "c6e59cb7",
   "metadata": {},
   "source": [
    "### Refreshing an external user's `Token`<a id='refreshing_token'></a>\n",
    "The `user token` for each external user will expire after a certain period of time. If the user token is found to be invalid, you can use the provided refresh token to generate a new, valid token for the associated external user."
   ]
  },
  {
   "cell_type": "code",
   "execution_count": null,
   "id": "bf52cf89",
   "metadata": {},
   "outputs": [],
   "source": [
    "url = f\"{base_url}/externals/refresh\"\n",
    "\n",
    "payload = {\"Refresh_Token\": config.knackly.refresh_token}\n",
    "\n",
    "response = requests.post(url, headers=headers, json=payload)\n",
    "user_token = response.json()[\"Token\"]\n",
    "\n",
    "view(response)"
   ]
  },
  {
   "cell_type": "markdown",
   "id": "edce4632",
   "metadata": {},
   "source": [
    "### Validating an external user\n",
    "It is a good idea to validate that the external user's token is valid before attempting to make other API calls involving that user.\n",
    "\n",
    "- If valid, the body of the GET response will be empty.\n",
    "- If invalid, the body of the GET response will contain an error message."
   ]
  },
  {
   "cell_type": "code",
   "execution_count": null,
   "id": "3ac26574",
   "metadata": {},
   "outputs": [],
   "source": [
    "# Valid user\n",
    "url = f\"{base_url}/externals/valid/{user_token}\"\n",
    "\n",
    "response = requests.get(url, headers=headers)\n",
    "response.text"
   ]
  },
  {
   "cell_type": "code",
   "execution_count": null,
   "id": "a58fc3a5",
   "metadata": {},
   "outputs": [],
   "source": [
    "# Invalid user example\n",
    "invalid_user_token = \"obviouslyIncorrectToken123\"\n",
    "url = f\"{base_url}/externals/valid/{invalid_user_token}\"\n",
    "\n",
    "response=requests.get(url, headers=headers)\n",
    "response.text"
   ]
  },
  {
   "cell_type": "markdown",
   "id": "fde5a116",
   "metadata": {},
   "source": [
    "### Creating a new record<a id='new_record'></a>\n",
    "Note that in this example, we are sending information (`payload`) along with the API request, in order to have parts of the interview already filled out. This step is optional, and you could opt not to send any information, resulting in a completely blank interview if you would like your users to start from scratch. \n",
    "\n",
    "Unless you are certain the data you are sending is complete and your user will never need to interact with the Lightning Docs interview, you must send the `external` parameter with the appropriate `user_token`. This tells the system that your user is authorized to interact with the application when you produce the interview through the API. If you were to exclude this parameter, the record would be closed to access by users except by logging in to Lightning Docs and accessing it directly on our website."
   ]
  },
  {
   "cell_type": "code",
   "execution_count": null,
   "id": "386896c7",
   "metadata": {},
   "outputs": [],
   "source": [
    "url = f\"{base_url}/catalogs/{config.knackly.catalog_name}/apps/{config.knackly.app_name}\"\n",
    "\n",
    "params = {\n",
    "    \"external\": user_token\n",
    "}\n",
    "\n",
    "payload = {\n",
    "    {\n",
    "        \"isTestFile\": True,\n",
    "        \"lenderInformation\": {\n",
    "            \"entityType\": \"corporation\",\n",
    "            \"Lender\": \"Single Lender\",\n",
    "            \"state\": \"Alabama\",\n",
    "            \"NoticeTo\": \"Third Party\",\n",
    "            \"OtherDelivery\": \"Attn: Lender\",\n",
    "            \"Notice\": {\n",
    "                \"id$\": \"662f59d836f797d07cad1066\",\n",
    "                \"street\": \"111 Lender Notice Street\",\n",
    "                \"city\": \"Carlsbad\",\n",
    "                \"state\": \"California\",\n",
    "                \"zip\": \"11111\"\n",
    "            }\n",
    "        }\n",
    "    }\n",
    "}\n",
    "\n",
    "response = requests.post(url, params=params, json=payload, headers=headers)\n",
    "\n",
    "view(response)"
   ]
  },
  {
   "cell_type": "markdown",
   "id": "05157e48",
   "metadata": {},
   "source": [
    "With the record created, you will use the `url` returned to you as part of the `apps` array in the API response to build a new url which can be given to the external user, allowing the user to open up the interview and edit this record in their browser. Alternatively, your application can use the URL to present the interview to the user within a frame.\n",
    "\n",
    "Note the `return_complete` and `return_incomplete` parameters in the cell below. These are optional, but will redirect the user's browser to the associated url when they hit either \"Complete\" or \"Finish Later\" from the interview screen, respectively. In this example we are redirecting to a youtube video, but in a real application this url could itself be an API call that would alert your system that the user has finished their work, at which point your application can take further action.<a id='construct_url'></a>"
   ]
  },
  {
   "cell_type": "code",
   "execution_count": null,
   "id": "30b25288",
   "metadata": {},
   "outputs": [],
   "source": [
    "from urllib.parse import urlencode\n",
    "\n",
    "apps_for_record = response.json()[\"apps\"] # This is an array of app objects. Since our catalog only has one app, our array has a length of 1\n",
    "app_url = apps_for_record[0][\"url\"]\n",
    "\n",
    "params = {\n",
    "    'external': user_token,\n",
    "    \"return_complete\": \"https://www.youtube.com/watch?v=dQw4w9WgXcQ\",\n",
    "    \"return_incomplete\": \"https://example.com/\"\n",
    "}\n",
    "external_url = f\"{app_url}?{urlencode(params)}\"\n",
    "\n",
    "print(external_url)"
   ]
  },
  {
   "cell_type": "markdown",
   "id": "d123374a",
   "metadata": {},
   "source": [
    "### Updating an Existing Record<a id='update_record'></a>\n",
    "The Knackly API also allows for modifying existing records. In order to do this, you must know the specific `id` of the record you wish to modify. For demonstration purposes, in the example below we are just retrieving the first `id` returned from an API call that lists all records in a catalog. \n",
    "\n",
    "*If following along with each cell, this should be the same record that you created in the step [Creating a New Record](#new_record).*\n",
    "\n",
    "---\n",
    "\n",
    "The following is copied verbatim from the Knackly documentation (as of 2024-02-27):\n",
    "\n",
    "*\"**Important note:** This endpoint should be considered BETA. Its behavior may be refined over time. In particular, it may allow modifications that are later rejected as errors, and it may reject modifications that could later be allowed. This is because the rules for exactly when and how records are locked and unlocked are not 100% solid yet. So, expect minor adjustments moving forward.\"*"
   ]
  },
  {
   "cell_type": "code",
   "execution_count": null,
   "id": "b53e26cb",
   "metadata": {},
   "outputs": [],
   "source": [
    "# Get a specific record_id\n",
    "url = f\"{base_url}/catalogs/{config.knackly.catalog_name}/items\"\n",
    "response = requests.get(url, headers=headers)\n",
    "\n",
    "record_id = response.json()[0][\"id\"]\n",
    "print(record_id)"
   ]
  },
  {
   "cell_type": "markdown",
   "id": "ab436237",
   "metadata": {},
   "source": [
    "Once you have the `id` of the record we wish to modify, simply make a PUT request with your new data being sent in the body of the call.\n",
    "\n",
    "Note that the data sent in the body of your request will **completely replace** all of the data currently stored in the record. If you wanted to modify or add to what currently exists in the record, you would have to [get the details for a specific record](#get_record_details), modify the data, and then send this PUT request with the newly modified data."
   ]
  },
  {
   "cell_type": "code",
   "execution_count": null,
   "id": "1b33eb6c",
   "metadata": {},
   "outputs": [],
   "source": [
    "url = f\"{base_url}/catalogs/{config.knackly.catalog_name}/items/{record_id}\"\n",
    "\n",
    "payload = {\n",
    "    \"isTestFile\": True,\n",
    "    \"lender\": {\n",
    "        \"id$\": \"1\",\n",
    "        \"name\": \"Manny the Money Giver\",\n",
    "        \"address\": {\n",
    "            \"id$\": \"2\",\n",
    "            \"city\": \"Missoula\",\n",
    "            \"street\": \"1234 Madeline Ave\",\n",
    "            \"zip\": \"59801\",\n",
    "            \"state\": \"Montana\"\n",
    "        }\n",
    "    }\n",
    "}\n",
    "\n",
    "response = requests.put(url, json=payload, headers=headers)\n",
    "\n",
    "view(response)"
   ]
  },
  {
   "cell_type": "markdown",
   "id": "6b3c355a",
   "metadata": {},
   "source": [
    "### Checking app status and getting record details\n",
    "After a user completes the interview it will take the application a few moments (usually on the order of 20 seconds) to assemble the documents before we can download them. Moreover, because the user may choose to end the interview by pressing \"Finish Later\" (which would save their data, but not produce completed documents) instead of \"Complete\" (which does produce completed documents), checking the status of the app for the record will allow you to see whether it is complete and documents are available."
   ]
  },
  {
   "cell_type": "markdown",
   "id": "7d99f835",
   "metadata": {},
   "source": [
    "#### GET - Get status of an app on a record<a id='get_status'></a>\n",
    "Part of the response in the API call to create a record is the record's `id`. This is used to reference that specific record, and will be useful in future calls."
   ]
  },
  {
   "cell_type": "code",
   "execution_count": null,
   "id": "b0c7fa0f",
   "metadata": {},
   "outputs": [],
   "source": [
    "record_id = response.json()[\"id\"]\n",
    "\n",
    "url = f\"{base_url}/catalogs/{config.knackly.catalog_name}/items/{record_id}/apps/{config.knackly.app_name}\"\n",
    "\n",
    "response = requests.get(url, headers=headers)\n",
    "\n",
    "view(response)"
   ]
  },
  {
   "cell_type": "markdown",
   "id": "7d750493",
   "metadata": {},
   "source": [
    "#### GET - Get record details<a id='retrieve_data'></a>\n",
    "Checking the status of an app will return information including URLs to the downloadable documents, but you can retrieve more detailed information about the record if necessary."
   ]
  },
  {
   "cell_type": "code",
   "execution_count": null,
   "id": "1ab32905",
   "metadata": {},
   "outputs": [],
   "source": [
    "url = f\"{base_url}/catalogs/{config.knackly.catalog_name}/items/{record_id}\"\n",
    "\n",
    "response = requests.get(url, headers=headers)\n",
    "\n",
    "view(response)"
   ]
  },
  {
   "cell_type": "markdown",
   "id": "f4fae2c4",
   "metadata": {},
   "source": [
    "As seen above, part of the response from this API call is the `files` array. Each element in this array is an object containing:\n",
    "- `name` the actual filename of the downloadable document.\n",
    "- `url` the permanent url to the downloadable documents. Can only be accessed via an authorized api key.\n",
    "- `publicURL` the time-sensitive (5 minutes) link to the downloadble document."
   ]
  },
  {
   "cell_type": "markdown",
   "id": "98125a1d",
   "metadata": {},
   "source": [
    "### Webhooks\n",
    "Knackly supports webhooks, meaning you can receive POST requests _from_ Knackly to your own program, and then do whatever you want with the provided data. As of now, webhooks will only fire on the `catalog.app.completed` event, which is triggered whenever any app in a given catalog is completed."
   ]
  },
  {
   "cell_type": "markdown",
   "id": "9eb41b42",
   "metadata": {},
   "source": [
    "The data that is included with each event is as follows:\n",
    "\n",
    "| property | description |\n",
    "| --- | --- |\n",
    "| eventId\t| a unique ID identifying this event (not currently used for much) |\n",
    "| eventName\t| the name of the event -- currently always \"catalog.app.completed\" |\n",
    "| catalog\t| the name of the Knackly catalog in which the event occurred |\n",
    "| record\t| the ID of the record in the above catalog, on which an app was completed. Use this to retrieve data or documents. |\n",
    "| app\t| the name of the app that was completed |\n",
    "| docsStarted\t| the date/time stamp when the user completed the app (documents started generating) |\n",
    "| docsFinished\t| the date/time stamp when documents finished generating for the app |\n",
    "| docCount\t| the number of documents generated by the app |\n",
    "| userType\t| either \"regular\", \"external\", or \"api\" |\n",
    "| userName\t| the user's name (for regular or external users) or the API key name (if app was run directly from the API) |\n",
    "| userEmail\t| the user's email address (for regular and external users only) |"
   ]
  },
  {
   "cell_type": "markdown",
   "id": "678e5812",
   "metadata": {},
   "source": [
    "#### Get webhooks\n",
    "Optionally, an `id` can be passed to the url to get information a specific webhook"
   ]
  },
  {
   "cell_type": "code",
   "execution_count": null,
   "id": "b90e680f",
   "metadata": {},
   "outputs": [],
   "source": [
    "url = f\"{base_url}/webhooks\"\n",
    "\n",
    "response = requests.get(url, headers=headers)\n",
    "\n",
    "view(response)"
   ]
  },
  {
   "cell_type": "markdown",
   "id": "3b32297b",
   "metadata": {},
   "source": [
    "#### Register a webhook\n",
    "\n",
    "Note that when registering a webhook, you are able to provide a JSON object containing key/value pairs corresponding to custom HTTP headers and custom values. When Knackly posts data to this webhook, it will also include these custom HTTP headers with the values you indicate. This can be useful to filter out any irrelevant traffic sent to your server."
   ]
  },
  {
   "cell_type": "code",
   "execution_count": null,
   "id": "d291c6fe",
   "metadata": {},
   "outputs": [],
   "source": [
    "url = f\"{base_url}/webhooks\"\n",
    "\n",
    "data = {\n",
    "    \"url\": \"YOUR_URL_HERE\",\n",
    "    \"events\": [\n",
    "        \"catalog.app.completed\"\n",
    "    ],\n",
    "    \"catalogs\": [\n",
    "        config.knackly.catalog_name\n",
    "    ]\n",
    "}\n",
    "\n",
    "response = requests.post(url, headers=headers, json=data)\n",
    "\n",
    "response.text"
   ]
  },
  {
   "cell_type": "markdown",
   "id": "e1d5868d",
   "metadata": {},
   "source": [
    "#### Unregister a webhook"
   ]
  },
  {
   "cell_type": "code",
   "execution_count": null,
   "id": "4049f813",
   "metadata": {},
   "outputs": [],
   "source": [
    "url = f\"{base_url}/webhooks/YOUR_WEBHOOK_ID_HERE\"\n",
    "\n",
    "response = requests.delete(url, headers=headers)\n",
    "\n",
    "response.text"
   ]
  },
  {
   "cell_type": "markdown",
   "id": "088d0082",
   "metadata": {},
   "source": [
    "## Records\n",
    "Knackly provides an easy way to retrieve all records from a given catalog."
   ]
  },
  {
   "cell_type": "markdown",
   "id": "9eff6a5a",
   "metadata": {},
   "source": [
    "### Get all records in a catalog"
   ]
  },
  {
   "cell_type": "code",
   "execution_count": null,
   "id": "496708b1",
   "metadata": {},
   "outputs": [],
   "source": [
    "url = f\"{base_url}/catalogs/{config.knackly.catalog_name}/items\"\n",
    "\n",
    "payload = {\n",
    "    \"status\": \"Ok\", # Optional parameter to filter results to only contain records with a particular status\n",
    "}\n",
    "\n",
    "response = requests.get(url, headers=headers, params=payload)\n",
    "\n",
    "view(response)"
   ]
  },
  {
   "cell_type": "markdown",
   "id": "aa469c59",
   "metadata": {},
   "source": [
    "The above API call only returns **metadata** about the records in a catalog. In order to get more specific details for a given record, we must do that through an individual API call."
   ]
  },
  {
   "cell_type": "markdown",
   "id": "af7635c3",
   "metadata": {},
   "source": [
    "### Get details for a specific record<a id='get_record_details'></a>"
   ]
  },
  {
   "cell_type": "code",
   "execution_count": null,
   "id": "cf8d1a6e",
   "metadata": {},
   "outputs": [],
   "source": [
    "record_id = random.choice(response.json())[\"id\"] # In practice, this would be a specific id. A random choice of the valid id's is made here for demonstration purposes\n",
    "\n",
    "url = f\"{base_url}/catalogs/{config.knackly.catalog_name}/items/{record_id}\"\n",
    "\n",
    "new_response = requests.get(url, headers=headers)\n",
    "\n",
    "view(new_response)"
   ]
  },
  {
   "cell_type": "markdown",
   "id": "6e35d66f",
   "metadata": {},
   "source": [
    "The structure of the response is split into three sections:\n",
    "- `metadata` information about the record itself, such as a unique id, status, and last modified date\n",
    "- `data` the actual data / answers given in the record\n",
    "- `apps` any apps that pertain to this record, including URLs to any downloadable documents produced by the apps"
   ]
  },
  {
   "cell_type": "markdown",
   "id": "7ea55fc2",
   "metadata": {},
   "source": [
    "# Workflow Examples"
   ]
  },
  {
   "cell_type": "markdown",
   "id": "442ee186",
   "metadata": {},
   "source": [
    "### Produce documents for a complete data set"
   ]
  },
  {
   "cell_type": "markdown",
   "id": "a0af2ef4",
   "metadata": {},
   "source": [
    "1. [Call the Lightning Docs data transformation API](#ld_api) to convert the data.\n",
    "2. [Create an `access token`](#access_token).\n",
    "3. [Refresh your external user](#refreshing_token)'s token (if it is not currently valid).\n",
    "4. [Create a new record](#new_record) with the data returned from the Lightning Docs data transformation API as the `payload`.\n",
    "5. After waiting sufficient time for Knackly to finish running the application, [get the status of the app](#get_status) on the record.\n",
    "6. Use the document URLs provided in the status to download the completed documents."
   ]
  },
  {
   "cell_type": "markdown",
   "id": "3969faf6",
   "metadata": {},
   "source": [
    "### Create a partially filled interview for a user"
   ]
  },
  {
   "cell_type": "markdown",
   "id": "ed03ff6b",
   "metadata": {},
   "source": [
    "1. [Call the Lightning Docs data transformation API](#ld_api) to convert the data.\n",
    "2. [Create an `access token`](#access_token) (if you haven't done so recently).\n",
    "3. [Refresh your external user](#refreshing_token)'s `token` (if it is not currently valid).\n",
    "4. [Create a new record](#new_record) with the data returned from the Lightning Docs data transformation API as the `payload` (being sure to include the user token with the `external` parameter).\n",
    "5. Using the URL returned in the API response to creating the record, [construct a URL](#construct_url) to give to the user (or to present the interview to them).\n",
    "6. Upon receiving notification that the user has completed the interview [get the status of the app](#get_status) on the record.\n",
    "7. Use the document URLs provided in the status response to download the completed documents.\n",
    "8. (Optional) [Retrieve the data](#retrieve_data) (now flush with the user's answers to the interview questions) from the record. (If we want to import the data into our application.)"
   ]
  },
  {
   "cell_type": "markdown",
   "id": "d493abcf",
   "metadata": {},
   "source": [
    "### Modify a record after it has been filled out"
   ]
  },
  {
   "cell_type": "markdown",
   "id": "d923b67e",
   "metadata": {},
   "source": [
    "1. [Call the LightningDocs API](#ld_api) to convert the data.\n",
    "2. [Create an `access token`](#access_token) (if we haven't done so recently).\n",
    "3. [Refresh our external user](#refreshing_token)'s `token` (if it is not currently valid).\n",
    "4. [Retrieve the current data](#get---get-record-details) stored in the record to be updated.\n",
    "5. Modify the entire JSON object.\n",
    "6. [Update the existing record](#updating-an-existing-record) using the new data."
   ]
  }
 ],
 "metadata": {
  "kernelspec": {
   "display_name": "Python 3 (ipykernel)",
   "language": "python",
   "name": "python3"
  }
 },
 "nbformat": 4,
 "nbformat_minor": 5
}
