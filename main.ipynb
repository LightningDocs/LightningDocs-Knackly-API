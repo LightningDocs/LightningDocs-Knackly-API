{
 "cells": [
  {
   "cell_type": "markdown",
   "id": "358cf25b",
   "metadata": {},
   "source": [
    "# Setup\n",
    "Before we proceed, we need to... \n",
    "- import any necessary libraries\n",
    "- create a function to help display API responses\n",
    "- and fill out our config object"
   ]
  },
  {
   "cell_type": "code",
   "execution_count": 1,
   "id": "99713fd7",
   "metadata": {},
   "outputs": [],
   "source": [
    "import requests\n",
    "import json\n",
    "import random\n",
    "\n",
    "def view(data):\n",
    "    print(json.dumps(data, indent=4))"
   ]
  },
  {
   "cell_type": "markdown",
   "id": "870673ac",
   "metadata": {},
   "source": [
    "### Fill in the `config` object below with information provided to you by Lightning Docs\n",
    "\n",
    "This information will change between testing the API and using the API in actual production.\n",
    "\n",
    "- `version` is the LightningDocs API version you wish to use for the translator.\n",
    "- `keyID` is the Knackly API key provided to you.\n",
    "- `tenancy` should be the name of the Knackly workspace.\n",
    "- `secret` is the very long Knackly secret key provided to you.\n",
    "- `catalog_name` is the name of the catalog in which records and finished documents are stored. While testing and demonstrating this API you will use a catalog shared by other testers. As such, DO NOT SEND CONFIDENTIAL INFORMATION WHILE TESTING THE API. In actual production use, each client will access a catalog unique to them.\n",
    "- `app_name` is the name of the application that runs the data you send and produces the appropriate documents.\n",
    "- `refresh_token` is the token used to validate the external user you are presenting yourself as (more on that below).\n",
    "\n",
    "Afterwards, make sure to run the cell below. This ensures that all the variables are properly stored in memory."
   ]
  },
  {
   "cell_type": "code",
   "execution_count": null,
   "id": "711c60b7",
   "metadata": {},
   "outputs": [],
   "source": [
    "from util import LightningDocs, Knackly, Config\n",
    "\n",
    "config = Config(\n",
    "    LightningDocs(version=\"VERSION_HERE\"),\n",
    "    Knackly(\n",
    "        tenancy=\"TENANCY_HERE\",\n",
    "        keyID=\"YOUR_KEYID_HERE\",\n",
    "        secret=\"YOUR_SECRET_HERE\",\n",
    "        catalog_name=\"CATALOG_NAME_HERE\",\n",
    "        app_name=\"APP_NAME_HERE\",\n",
    "        refresh_token=\"YOUR_REFRESH_TOKEN_HERE\"\n",
    "    ),\n",
    ")\n",
    "\n",
    "base_url = f\"https://api.knackly.io/{config.knackly.tenancy}/api/v1\""
   ]
  },
  {
   "cell_type": "markdown",
   "id": "7292cf36",
   "metadata": {},
   "source": [
    "# Interacting with the LightningDocs API\n",
    "- _Schema documentation can be found [here](https://lightningdocs.com/)_ (<- update this to be the real link as soon as the correct one becomes available)\n",
    "- _Postman documentation for the Lightning Docs API can be found [here](https://lightningdocs.com/)_ (<- update this to be the real link as soon as the correct one becomes available)\n",
    "\n",
    "The JSON Schema is provided so that you can validate your data file for completeness. With that information you can decide whether you want to produce a completed document or provide a pre-filled interview to the user. No example is given here because completeness is not necessary for the Lightning Docs API to translate the data provided to it; it will translate any information that can be used to fill the interview and ignore any irrelevant information. "
   ]
  },
  {
   "cell_type": "markdown",
   "id": "0e725d77",
   "metadata": {},
   "source": [
    "### Sending JSON and getting back a valid Knackly JSON object"
   ]
  },
  {
   "cell_type": "markdown",
   "id": "7ff6d187",
   "metadata": {},
   "source": [
    "The following cell sends the contents of `valid.json` which follows the provided schema with information for a completely filled out loan."
   ]
  },
  {
   "cell_type": "code",
   "execution_count": null,
   "id": "a0ab5457",
   "metadata": {},
   "outputs": [],
   "source": [
    "url = \"https://api.lightningdocs.com/api/JsonConversion/Convert\"\n",
    "\n",
    "payload = {\n",
    "    'version': config.lightningdocs.version\n",
    "}\n",
    "\n",
    "with open(\"json/lightningdocs/valid.json\", \"r\") as infile:\n",
    "    data = json.load(infile)\n",
    "    \n",
    "response = requests.post(url, params=payload, json=data)\n",
    "\n",
    "view(response.json())"
   ]
  },
  {
   "cell_type": "markdown",
   "id": "b9730d75",
   "metadata": {},
   "source": [
    "The following cell uses data from `incomplete.json`. This is valid JSON that follows the schema, but is largely incomplete."
   ]
  },
  {
   "cell_type": "code",
   "execution_count": null,
   "id": "0951b599",
   "metadata": {},
   "outputs": [],
   "source": [
    "with open(\"json/lightningdocs/incomplete.json\", \"r\") as infile:\n",
    "    data = json.load(infile)\n",
    "    \n",
    "response = requests.post(url, params=payload, json=data)\n",
    "\n",
    "view(response.json())"
   ]
  },
  {
   "cell_type": "markdown",
   "id": "ccaf8b56",
   "metadata": {},
   "source": [
    "### Sending irrelevant / invalid JSON..."
   ]
  },
  {
   "cell_type": "markdown",
   "id": "a77a5047",
   "metadata": {},
   "source": [
    "#### Sending data that is irrelevant\n",
    "Irrelevant data will simply be ignored by the API. Only relevant information will be converted."
   ]
  },
  {
   "cell_type": "code",
   "execution_count": null,
   "id": "674750d7",
   "metadata": {},
   "outputs": [],
   "source": [
    "with open(\"json/lightningdocs/irrelevant.json\", \"r\") as infile:\n",
    "    data = json.load(infile)\n",
    "    \n",
    "response = requests.post(url, params=payload, json=data)\n",
    "\n",
    "view(response.json())"
   ]
  },
  {
   "cell_type": "markdown",
   "id": "5cfe287a",
   "metadata": {},
   "source": [
    "#### Sending data that does not follow the schema\n",
    "Validating your data against the schema is *your* responsibility. The API does not check the sent data against the schema, so any values that are not in the format Knackly expects **will not** be corrected.\n",
    "\n",
    "For example, in the following cell file `invalid.json` is used. According to the schema, the `closingDate` key should follow the `date` format *(\"YYYY-MM-DD\")*. However, we are sending a value of \"January 14th, 2001\"."
   ]
  },
  {
   "cell_type": "code",
   "execution_count": null,
   "id": "c2dd2f5e",
   "metadata": {},
   "outputs": [],
   "source": [
    "with open(\"json/lightningdocs/invalid.json\", \"r\") as infile:\n",
    "    data = json.load(infile)\n",
    "    \n",
    "response = requests.post(url, params=payload, json=data)\n",
    "\n",
    "view(response.json())"
   ]
  },
  {
   "cell_type": "markdown",
   "id": "f1949b5f",
   "metadata": {},
   "source": [
    "# Interacting with the Knackly API\n",
    "Nearly all requests to the Knackly API must contain an access token provided in the request header. In order to obtain this access token, we will need the `keyID` and `secret` provided to us by LightningDocs."
   ]
  },
  {
   "cell_type": "markdown",
   "id": "12db7745",
   "metadata": {},
   "source": [
    "## Access Token"
   ]
  },
  {
   "cell_type": "code",
   "execution_count": null,
   "id": "d0eae2fe",
   "metadata": {},
   "outputs": [],
   "source": [
    "url = f\"https://api.knackly.io/{config.knackly.tenancy}/api/v1/auth/login\"\n",
    "\n",
    "payload = {\"KeyID\": config.knackly.keyID, \"Secret\": config.knackly.secret}\n",
    "\n",
    "response = requests.post(url, json=payload)\n",
    "access_token = response.json()[\"token\"]\n",
    "\n",
    "view(response.json())"
   ]
  },
  {
   "cell_type": "markdown",
   "id": "52885005",
   "metadata": {},
   "source": [
    "The access token needs to be included in the header of each subsequent response, so we will create the `headers` object which will be included in nearly all future requests."
   ]
  },
  {
   "cell_type": "code",
   "execution_count": null,
   "id": "e44e9535",
   "metadata": {},
   "outputs": [],
   "source": [
    "headers = {\"Authorization\": f\"Bearer {access_token}\"}"
   ]
  },
  {
   "cell_type": "markdown",
   "id": "68f37a3a",
   "metadata": {},
   "source": [
    "## External Users\n",
    "Because the Knackly application ties all actions that create and modify a record to a specific user (even when those actions are taken through the API), you must identify yourself as an external user using the `refresh token` we provide to you. This is analagous to a recovery key for the external user: the `refresh token` itself isn't the \"password\" to the external token, but possession of it allows generation of the `user token`, which _is_ used to uniquely identify an external user."
   ]
  },
  {
   "cell_type": "markdown",
   "id": "c6e59cb7",
   "metadata": {},
   "source": [
    "### Refreshing an external user's `Token`\n",
    "The `user token` for each external user will expire after a certain period of time. If the user token is found to be invalid, you can use the provided refresh token to generate a new, valid token for the associated external user."
   ]
  },
  {
   "cell_type": "code",
   "execution_count": null,
   "id": "bf52cf89",
   "metadata": {},
   "outputs": [],
   "source": [
    "url = f\"{base_url}/externals/refresh\"\n",
    "\n",
    "payload = {\"Refresh_Token\": config.knackly.refresh_token}\n",
    "\n",
    "response = requests.post(url, headers=headers, json=payload)\n",
    "user_token = response.json()[\"Token\"]\n",
    "\n",
    "view(response.json())"
   ]
  },
  {
   "cell_type": "markdown",
   "id": "edce4632",
   "metadata": {},
   "source": [
    "### Validating an external user\n",
    "It is a good idea to validate that the external user's token is valid before attempting to make other API calls involving that user.\n",
    "\n",
    "- If valid, the body of the GET response will be empty.\n",
    "- If invalid, the body of the GET response will contain an error message."
   ]
  },
  {
   "cell_type": "code",
   "execution_count": null,
   "id": "3ac26574",
   "metadata": {},
   "outputs": [],
   "source": [
    "# Valid user\n",
    "url = f\"{base_url}/externals/valid/{user_token}\"\n",
    "\n",
    "response = requests.get(url, headers=headers)\n",
    "response.text"
   ]
  },
  {
   "cell_type": "code",
   "execution_count": null,
   "id": "a58fc3a5",
   "metadata": {},
   "outputs": [],
   "source": [
    "# Invalid user example\n",
    "invalid_user_token = \"obviouslyIncorrectToken123\"\n",
    "url = f\"{base_url}/externals/valid/{invalid_user_token}\"\n",
    "\n",
    "response=requests.get(url, headers=headers)\n",
    "response.text"
   ]
  },
  {
   "cell_type": "markdown",
   "id": "fde5a116",
   "metadata": {},
   "source": [
    "### Creating a new record\n",
    "Note that in this example, we are sending information `payload` along with the API request, in order to have parts of the interview already filled out. This step is optional, and you could opt not to send any information, resulting in a completely blank interview if you would like your users to start from scratch."
   ]
  },
  {
   "cell_type": "code",
   "execution_count": null,
   "id": "386896c7",
   "metadata": {},
   "outputs": [],
   "source": [
    "url = f\"{base_url}/catalogs/{config.knackly.catalog_name}/apps/{config.knackly.app_name}\"\n",
    "\n",
    "params = {\n",
    "    \"external\": user_token\n",
    "}\n",
    "\n",
    "payload = {\n",
    "    \"lender\": {\n",
    "        \"id$\": \"1\",\n",
    "        \"name\": \"Larry the Lender 2\",\n",
    "        \"address\": {\n",
    "            \"id$\": \"2\",\n",
    "            \"city\": \"Lafayette\",\n",
    "            \"street\": \"1234 Laniakae Lane\",\n",
    "            \"zip\": \"98765\",\n",
    "            \"state\": \"California\",\n",
    "        },\n",
    "    }\n",
    "}\n",
    "\n",
    "response = requests.post(url, params=params, json=payload, headers=headers)\n",
    "\n",
    "view(response.json())"
   ]
  },
  {
   "cell_type": "markdown",
   "id": "05157e48",
   "metadata": {},
   "source": [
    "Now that the record has been created, we will use the `url` returned to us as part of the `apps` array in the API response to build a new url which can be given to the external user, allowing them to open up the interview and edit this record in their browser. Alternatively, your application can use the URL to present the interview to the user within a frame.\n",
    "\n",
    "Note the `return_complete` and `return_incomplete` parameters in the cell below. These are optional, but will redirect the user's browser to the associated url when they hit either \"Complete\" or \"Finish Later\" from the interview screen, respectively. In this example we are redirecting to a youtube video, but in a real application this url could itself be an API call that would alert your system that the user has finished their work, at which point your application can take further action."
   ]
  },
  {
   "cell_type": "code",
   "execution_count": null,
   "id": "30b25288",
   "metadata": {},
   "outputs": [],
   "source": [
    "apps_for_record = response.json()[\"apps\"] # This is an array of app objects. Since our catalog only has one app, our array has a length of 1\n",
    "app_url = apps_for_record[0][\"url\"]\n",
    "\n",
    "from urllib.parse import urlencode\n",
    "params = {\n",
    "    'external': user_token,\n",
    "    \"return_complete\": \"https://www.youtube.com/watch?v=dQw4w9WgXcQ\",\n",
    "    \"return_incomplete\": \"https://example.com/\"\n",
    "}\n",
    "external_url = f\"{app_url}?{urlencode(params)}\"\n",
    "\n",
    "print(external_url)"
   ]
  },
  {
   "cell_type": "markdown",
   "id": "6b3c355a",
   "metadata": {},
   "source": [
    "### Checking status and getting record details\n",
    "After a user completes the interview, it will take the application a few moments (usually on the order of 20 seconds) to assemble the documents before you can download them. Moreover, if the user chose to end the interview by pressing \"Finish Later\" instead of \"Complete\", checking the status of the app for the record will allow you to see whether it is complete and documents are available."
   ]
  },
  {
   "cell_type": "markdown",
   "id": "7d99f835",
   "metadata": {},
   "source": [
    "#### GET - Get status of an app on a record\n",
    "Part of the response in the API call to create a record is the record's `id`. This is used to reference that specific record, and will be useful in future calls."
   ]
  },
  {
   "cell_type": "code",
   "execution_count": null,
   "id": "b0c7fa0f",
   "metadata": {},
   "outputs": [],
   "source": [
    "record_id = response.json()[\"id\"]\n",
    "\n",
    "url = f\"{base_url}/catalogs/{config.knackly.catalog_name}/items/{record_id}/apps/{config.knackly.app_name}\"\n",
    "\n",
    "response = requests.get(url, headers=headers)\n",
    "\n",
    "view(response.json())"
   ]
  },
  {
   "cell_type": "markdown",
   "id": "7d750493",
   "metadata": {},
   "source": [
    "#### GET - Get record details\n",
    "Checking the status of an app will return information including URLs to the downloadable documents, but you can retrieve more detailed information about the record if necessary."
   ]
  },
  {
   "cell_type": "code",
   "execution_count": null,
   "id": "1ab32905",
   "metadata": {},
   "outputs": [],
   "source": [
    "url = f\"{base_url}/catalogs/{config.knackly.catalog_name}/items/{record_id}\"\n",
    "\n",
    "response = requests.get(url, headers=headers)\n",
    "\n",
    "view(response.json())"
   ]
  },
  {
   "cell_type": "markdown",
   "id": "f4fae2c4",
   "metadata": {},
   "source": [
    "As you can see above, part of the response from this API call is the `files` array. Each element in this array is an object containing:\n",
    "- `name` the actual filename of the downloadable document.\n",
    "- `url` the **`LOWELL WHAT'S THE DIFFERENCE BETWEEN A URL AND A PUBLIC URL?`**\n",
    "- `publicURL` the link to downloadble document."
   ]
  },
  {
   "cell_type": "markdown",
   "id": "98125a1d",
   "metadata": {},
   "source": [
    "### Webhooks\n",
    "Knackly supports webhooks, meaning you can receive POST requests _from_ Knackly to your own program, and then do whatever you want with the provided data. As of now, webhooks will only fire on the `catalog.app.completed` event, which is triggered whenever any app in a given catalog is completed."
   ]
  },
  {
   "cell_type": "markdown",
   "id": "9eb41b42",
   "metadata": {},
   "source": [
    "The data that is included with each event is as follows:\n",
    "\n",
    "| property | description |\n",
    "| --- | --- |\n",
    "| eventId\t| a unique ID identifying this event (not currently used for much) |\n",
    "| eventName\t| the name of the event -- currently always \"catalog.app.completed\" |\n",
    "| catalog\t| the name of the Knackly catalog in which the event occurred |\n",
    "| record\t| the ID of the record in the above catalog, on which an app was completed. Use this to retrieve data or documents. |\n",
    "| app\t| the name of the app that was completed |\n",
    "| docsStarted\t| the date/time stamp when the user completed the app (documents started generating) |\n",
    "| docsFinished\t| the date/time stamp when documents finished generating for the app |\n",
    "| docCount\t| the number of documents generated by the app |\n",
    "| userType\t| either \"regular\", \"external\", or \"api\" |\n",
    "| userName\t| the user's name (for regular or external users) or the API key name (if app was run directly from the API) |\n",
    "| userEmail\t| the user's email address (for regular and external users only) |"
   ]
  },
  {
   "cell_type": "markdown",
   "id": "678e5812",
   "metadata": {},
   "source": [
    "#### Get webhooks\n",
    "Optionally, an `id` can be passed to the url to get information a specific webhook"
   ]
  },
  {
   "cell_type": "code",
   "execution_count": null,
   "id": "b90e680f",
   "metadata": {},
   "outputs": [],
   "source": [
    "url = f\"{base_url}/webhooks\"\n",
    "\n",
    "response = requests.get(url, headers=headers)\n",
    "\n",
    "view(response.json())"
   ]
  },
  {
   "cell_type": "markdown",
   "id": "3b32297b",
   "metadata": {},
   "source": [
    "#### Register a webhook"
   ]
  },
  {
   "cell_type": "code",
   "execution_count": null,
   "id": "d291c6fe",
   "metadata": {},
   "outputs": [],
   "source": [
    "url = f\"{base_url}/webhooks\"\n",
    "\n",
    "data = {\n",
    "    \"url\": \"YOUR_URL_HERE\",\n",
    "    \"events\": [\n",
    "        \"catalog.app.completed\"\n",
    "    ],\n",
    "    \"catalogs\": [\n",
    "        config.knackly.catalog_name\n",
    "    ]\n",
    "}\n",
    "\n",
    "response = requests.post(url, headers=headers, json=data)\n",
    "\n",
    "response.text"
   ]
  },
  {
   "cell_type": "markdown",
   "id": "e1d5868d",
   "metadata": {},
   "source": [
    "#### Unregister a webhook"
   ]
  },
  {
   "cell_type": "code",
   "execution_count": null,
   "id": "4049f813",
   "metadata": {},
   "outputs": [],
   "source": [
    "url = f\"{base_url}/webhooks/YOUR_WEBHOOK_ID_HERE\"\n",
    "\n",
    "response = requests.delete(url, headers=headers)\n",
    "\n",
    "response.text"
   ]
  },
  {
   "cell_type": "markdown",
   "id": "088d0082",
   "metadata": {},
   "source": [
    "## Records\n",
    "Knackly provides an easy way to retrieve all records from a given catalog."
   ]
  },
  {
   "cell_type": "markdown",
   "id": "9eff6a5a",
   "metadata": {},
   "source": [
    "### Get all records in a catalog"
   ]
  },
  {
   "cell_type": "code",
   "execution_count": null,
   "id": "496708b1",
   "metadata": {},
   "outputs": [],
   "source": [
    "url = f\"{base_url}/catalogs/{config.knackly.catalog_name}/items\"\n",
    "\n",
    "payload = {\n",
    "    \"status\": \"Ok\", # Optional parameter to filter results to only contain records with a particular status\n",
    "}\n",
    "\n",
    "response = requests.get(url, headers=headers, params=payload)\n",
    "\n",
    "view(response.json())"
   ]
  },
  {
   "cell_type": "markdown",
   "id": "aa469c59",
   "metadata": {},
   "source": [
    "As you can see, the above API call only returns **metadata** about the records in a catalog. In order to get more specific details for a given record, you must do that through an individual API call."
   ]
  },
  {
   "cell_type": "markdown",
   "id": "af7635c3",
   "metadata": {},
   "source": [
    "### Get details for a specific record"
   ]
  },
  {
   "cell_type": "code",
   "execution_count": null,
   "id": "cf8d1a6e",
   "metadata": {},
   "outputs": [],
   "source": [
    "record_id = random.choice(response.json())[\"id\"] # In practice, this would be a specific id. A random choice of the valid id's is made here for demonstration purposes\n",
    "\n",
    "url = f\"{base_url}/catalogs/{config.knackly.catalog_name}/items/{record_id}\"\n",
    "\n",
    "new_response = requests.get(url, headers=headers)\n",
    "\n",
    "view(new_response.json())"
   ]
  },
  {
   "cell_type": "markdown",
   "id": "6e35d66f",
   "metadata": {},
   "source": [
    "The structure of the response is split into three sections:\n",
    "- `metadata` information about the record itself, such as a unique id, status, and last modified date\n",
    "- `data` the actual data / answers given in the record\n",
    "- `apps` any apps that pertain to this record, including URLs to any downloadable documents produced by the apps"
   ]
  },
  {
   "cell_type": "markdown",
   "id": "7ea55fc2",
   "metadata": {},
   "source": [
    "# Workflow Examples (Link the appropriate cells above when we get a second)"
   ]
  },
  {
   "cell_type": "markdown",
   "id": "442ee186",
   "metadata": {},
   "source": [
    "### Produce documents for a complete data set"
   ]
  },
  {
   "cell_type": "markdown",
   "id": "a0af2ef4",
   "metadata": {},
   "source": [
    "1. Validate our data against the JSON schema to ensure completeness.\n",
    "2. Call the Lightning Docs API to convert the data.\n",
    "3. Create an access token.\n",
    "4. Refresh your external user's token (if it is not currently valid).\n",
    "5. Create a new record with the data returned from the LD API as the `payload`.\n",
    "6. After waiting sufficient time for Knackly to finish running the application, get the status of the app on the record.\n",
    "7. Use the document URLs provided in the status to download the completed documents."
   ]
  },
  {
   "cell_type": "markdown",
   "id": "3969faf6",
   "metadata": {},
   "source": [
    "### Create a partially filled interview for a user"
   ]
  },
  {
   "cell_type": "markdown",
   "id": "ed03ff6b",
   "metadata": {},
   "source": [
    "1. Call the Lightning Docs API to convert the data. (You might choose to validate the data against the schema, but it isn't neccessary since we don't need it to be complete.)\n",
    "2. Create an `access token` (if you haven't done so recently).\n",
    "2. Refresh your external user's `token` (if it is not currently valid).\n",
    "2. Create a new record with the data returned from the LD API as the `payload`.\n",
    "2. Using the URL returned in the API response to creating the record, construct a URL to give to your user (or to present the interview to them).\n",
    "2. Upon receiving notification that the user has completed the interview and waiting sufficient time for Knackly to finish running the application, get the status of the app on the record.\n",
    "2. Use the document URLs provided in the status to download the completed documents.\n",
    "2. (Optional) Retrieve the data (now flush with your user's answers to the interview questions) from the record. (If you want to import the data into your application.)"
   ]
  }
 ],
 "metadata": {
  "kernelspec": {
   "display_name": "Python 3 (ipykernel)",
   "language": "python",
   "name": "python3"
  },
  "language_info": {
   "codemirror_mode": {
    "name": "ipython",
    "version": 3
   },
   "file_extension": ".py",
   "mimetype": "text/x-python",
   "name": "python",
   "nbconvert_exporter": "python",
   "pygments_lexer": "ipython3",
   "version": "3.11.5"
  }
 },
 "nbformat": 4,
 "nbformat_minor": 5
}
